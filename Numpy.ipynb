{
 "cells": [
  {
   "cell_type": "code",
   "execution_count": 1,
   "id": "74ce229d-4d12-47bb-b8ea-6b9c08815b43",
   "metadata": {},
   "outputs": [],
   "source": [
    "import numpy as np"
   ]
  },
  {
   "cell_type": "markdown",
   "id": "1df9525b-9095-4ad2-880c-3cdcb794698f",
   "metadata": {},
   "source": [
    "#### Creating an array"
   ]
  },
  {
   "cell_type": "code",
   "execution_count": 2,
   "id": "d2f2df24-341b-4ed9-bd79-f2a5f02a18bb",
   "metadata": {},
   "outputs": [
    {
     "name": "stdout",
     "output_type": "stream",
     "text": [
      "42\n"
     ]
    }
   ],
   "source": [
    "# 0D\n",
    "arr0= np.array(42)\n",
    "print(arr0)"
   ]
  },
  {
   "cell_type": "code",
   "execution_count": 3,
   "id": "c7216dc2-af0d-4b64-b8b8-54318b930ae1",
   "metadata": {},
   "outputs": [
    {
     "name": "stdout",
     "output_type": "stream",
     "text": [
      "[1 2 3 4 5]\n"
     ]
    }
   ],
   "source": [
    "# 1D\n",
    "arr1= np.array([1, 2, 3, 4, 5])\n",
    "print(arr1)"
   ]
  },
  {
   "cell_type": "code",
   "execution_count": 4,
   "id": "837431de-630e-4aa2-a449-4c3c67a5b074",
   "metadata": {},
   "outputs": [
    {
     "name": "stdout",
     "output_type": "stream",
     "text": [
      "[[1 2 3]\n",
      " [4 5 6]]\n"
     ]
    }
   ],
   "source": [
    "# 2D\n",
    "arr2= np.array([[1, 2, 3], [4, 5, 6]])\n",
    "print(arr2)"
   ]
  },
  {
   "cell_type": "code",
   "execution_count": 5,
   "id": "3d09c40d-1b3a-4e9d-a23e-c06eb3426149",
   "metadata": {},
   "outputs": [
    {
     "name": "stdout",
     "output_type": "stream",
     "text": [
      "[[[ 1  2  3]\n",
      "  [ 4  5  6]]\n",
      "\n",
      " [[ 7  8  9]\n",
      "  [10 11 12]]]\n"
     ]
    }
   ],
   "source": [
    "# 3D (3*3 for this example)\n",
    "arr3= np.array([[[1, 2, 3],[4, 5, 6]], [[7, 8, 9],[10, 11, 12]]])\n",
    "print(arr3)"
   ]
  },
  {
   "cell_type": "markdown",
   "id": "fae7087b-7cc1-4e42-a5fa-3db53dfac33f",
   "metadata": {},
   "source": [
    "#### Check number of dimension"
   ]
  },
  {
   "cell_type": "code",
   "execution_count": 6,
   "id": "240500c0-7c41-4aab-8ccd-78f861f304e4",
   "metadata": {},
   "outputs": [
    {
     "name": "stdout",
     "output_type": "stream",
     "text": [
      "0\n",
      "1\n",
      "2\n",
      "3\n"
     ]
    }
   ],
   "source": [
    "a = np.array(42)\n",
    "b = np.array([1, 2, 3, 4, 5])\n",
    "c = np.array([[1, 2, 3], [4, 5, 6]])\n",
    "d = np.array([[[1, 2, 3], [4, 5, 6]], [[1, 2, 3], [4, 5, 6]]])\n",
    "\n",
    "print(a.ndim)\n",
    "print(b.ndim)\n",
    "print(c.ndim)\n",
    "print(d.ndim)"
   ]
  },
  {
   "cell_type": "markdown",
   "id": "ecae2180-9423-43cb-b417-62da9befdf22",
   "metadata": {},
   "source": [
    "### Higher dimension array (ndmin)"
   ]
  },
  {
   "cell_type": "code",
   "execution_count": 7,
   "id": "d54b4095-8cde-4428-a6e2-7b18c4f33f45",
   "metadata": {},
   "outputs": [
    {
     "name": "stdout",
     "output_type": "stream",
     "text": [
      "[[[[[1 2 3 4 5]]]]]\n",
      "Number of dimension is  5\n"
     ]
    }
   ],
   "source": [
    "# Creating an array with 5 dimensions\n",
    "arr5 = np.array([1, 2, 3, 4, 5], ndmin=5)\n",
    "print(arr5)\n",
    "print(\"Number of dimension is \", arr5.ndim)"
   ]
  },
  {
   "cell_type": "code",
   "execution_count": null,
   "id": "a0b90e36-ae9f-4f0c-8415-0dc20bb2accd",
   "metadata": {},
   "outputs": [],
   "source": []
  },
  {
   "cell_type": "markdown",
   "id": "2b52bc11-518d-47f3-a294-7c56e22106d8",
   "metadata": {},
   "source": [
    "## Array indexing"
   ]
  },
  {
   "cell_type": "code",
   "execution_count": 8,
   "id": "1c175270-46e1-4ef0-8fc7-11c7086ad573",
   "metadata": {},
   "outputs": [
    {
     "name": "stdout",
     "output_type": "stream",
     "text": [
      "first item  1\n",
      "last item  5\n",
      "third item  3\n"
     ]
    }
   ],
   "source": [
    "arr = np.array([1, 2, 3, 4, 5])\n",
    "\n",
    "print(\"first item \", arr[0])\n",
    "print(\"last item \", arr[-1])\n",
    "print(\"third item \", arr[2])"
   ]
  },
  {
   "cell_type": "code",
   "execution_count": 9,
   "id": "3aa29e54-7544-4eff-ace0-08825995d129",
   "metadata": {},
   "outputs": [
    {
     "name": "stdout",
     "output_type": "stream",
     "text": [
      "6\n"
     ]
    }
   ],
   "source": [
    "arr2 = np.array([[1, 2, 3],[4, 5, 6]])\n",
    "print(arr2[1, 2]) #because of indexing (2, 3)"
   ]
  },
  {
   "cell_type": "code",
   "execution_count": 10,
   "id": "4495b4da-e659-487c-af07-ee3d240f8a5b",
   "metadata": {},
   "outputs": [
    {
     "name": "stdout",
     "output_type": "stream",
     "text": [
      "5\n"
     ]
    }
   ],
   "source": [
    "arr3 = np.array([[[1, 2, 3], [4, 5, 6]], [[7, 8, 9], [10, 11, 12]]])\n",
    "print(arr3[0, 1, 1]) #second element in the second row of first matrix"
   ]
  },
  {
   "cell_type": "markdown",
   "id": "9ebc3d51-4d05-4d8c-bec4-0ee74f851ffb",
   "metadata": {},
   "source": [
    "#### Negative indexing"
   ]
  },
  {
   "cell_type": "code",
   "execution_count": 11,
   "id": "a30b3cbc-d25f-4b72-9ee0-79cad4e3e5a5",
   "metadata": {},
   "outputs": [
    {
     "name": "stdout",
     "output_type": "stream",
     "text": [
      "9\n"
     ]
    }
   ],
   "source": [
    "arr= np.array([[1, 2, 3, 4, 5], [6, 7, 8, 9, 10]])\n",
    "print(arr[1, -2]) # second last element of second row"
   ]
  },
  {
   "cell_type": "markdown",
   "id": "69b0ac71-2697-4acd-8154-fdddcb18df5e",
   "metadata": {},
   "source": [
    "### Array slicing\n",
    "\n",
    "#### [start:end:step]"
   ]
  },
  {
   "cell_type": "code",
   "execution_count": 12,
   "id": "0dc5b78d-1199-4066-8832-da0c9e0b333f",
   "metadata": {},
   "outputs": [
    {
     "name": "stdout",
     "output_type": "stream",
     "text": [
      "[2 3 4 5]\n",
      "[1 2 3 4]\n",
      "[5 6 7 8 9]\n"
     ]
    }
   ],
   "source": [
    "arr = np.array([1, 2, 3, 4, 5, 6, 7, 8, 9])\n",
    "print(arr[1:5]) #from index 1 to 4\n",
    "print(arr[:4]) #from index 0 to 3\n",
    "print(arr[4:]) #from index 4 to end"
   ]
  },
  {
   "cell_type": "markdown",
   "id": "f5622763-f58e-4c72-9625-a0f77de6b641",
   "metadata": {},
   "source": [
    "#### Negative slicing"
   ]
  },
  {
   "cell_type": "code",
   "execution_count": 13,
   "id": "d5300668-1b24-4334-a106-de5c7059aa4f",
   "metadata": {},
   "outputs": [
    {
     "name": "stdout",
     "output_type": "stream",
     "text": [
      "[7 8]\n"
     ]
    }
   ],
   "source": [
    "arr = np.array([1, 2, 3, 4, 5, 6, 7, 8, 9])\n",
    "print(arr[-3:-1]) #third to last element(7) to less than last element"
   ]
  },
  {
   "cell_type": "markdown",
   "id": "391c6495-ddbd-4ef1-8212-f7c3b967cb02",
   "metadata": {},
   "source": [
    "#### Step"
   ]
  },
  {
   "cell_type": "code",
   "execution_count": 14,
   "id": "3d84e99a-55f8-413c-a6ef-0b5937b4ceb1",
   "metadata": {},
   "outputs": [
    {
     "name": "stdout",
     "output_type": "stream",
     "text": [
      "[2 4]\n"
     ]
    }
   ],
   "source": [
    "arr = np.array([1, 2, 3, 4, 5, 6, 7])\n",
    "print(arr[1:5:2]) #from index 1 to 4 with a step size of 2"
   ]
  },
  {
   "cell_type": "markdown",
   "id": "3d2d4d6e-ab68-4ff6-b534-9788c5c48556",
   "metadata": {},
   "source": [
    "#### slicing 2-D array"
   ]
  },
  {
   "cell_type": "code",
   "execution_count": 15,
   "id": "93a3c50a-f1a9-402f-8d02-77c453617aea",
   "metadata": {},
   "outputs": [
    {
     "name": "stdout",
     "output_type": "stream",
     "text": [
      "[ 8  9 10]\n"
     ]
    }
   ],
   "source": [
    "arr2 = np.array([[1, 2, 3, 4, 5], [6, 7, 8, 9, 10]])\n",
    "print(arr2[1, 2:5]) #index second to fourth in 2nd row"
   ]
  },
  {
   "cell_type": "code",
   "execution_count": 16,
   "id": "1b26ab14-b5d6-49ed-8440-e35c1e67cbb5",
   "metadata": {},
   "outputs": [
    {
     "name": "stdout",
     "output_type": "stream",
     "text": [
      "[3 8]\n"
     ]
    }
   ],
   "source": [
    "print(arr2[0:2, 2]) #second index from both rows"
   ]
  },
  {
   "cell_type": "markdown",
   "id": "b6b082ee-312f-49b0-baa3-ca2b52f86d13",
   "metadata": {},
   "source": [
    "### data type"
   ]
  },
  {
   "cell_type": "code",
   "execution_count": 17,
   "id": "87b119a1-4590-413e-8bf0-627e33756b15",
   "metadata": {},
   "outputs": [
    {
     "name": "stdout",
     "output_type": "stream",
     "text": [
      "int64\n"
     ]
    }
   ],
   "source": [
    "arr= np.array([1, 2, 3, 4, 5])\n",
    "print(arr.dtype)"
   ]
  },
  {
   "cell_type": "code",
   "execution_count": 18,
   "id": "fc255f50-42df-4e7e-85fa-936a8e4ca603",
   "metadata": {},
   "outputs": [
    {
     "name": "stdout",
     "output_type": "stream",
     "text": [
      "<U21\n"
     ]
    }
   ],
   "source": [
    "arr= np.array([1, \"a\", True])\n",
    "print(arr.dtype)"
   ]
  },
  {
   "cell_type": "markdown",
   "id": "b2b0a521-86d9-4755-90e2-d5e140fae7d5",
   "metadata": {},
   "source": [
    "#### creating array with defined data type"
   ]
  },
  {
   "cell_type": "code",
   "execution_count": 19,
   "id": "d7edde23-4c1c-4858-96f4-554d8ba91a49",
   "metadata": {},
   "outputs": [
    {
     "name": "stdout",
     "output_type": "stream",
     "text": [
      "[b'1' b'2' b'3' b'4']\n",
      "|S1\n"
     ]
    }
   ],
   "source": [
    "arr= np.array([1, 2, 3, 4], dtype='S')\n",
    "print(arr)\n",
    "print(arr.dtype)"
   ]
  },
  {
   "cell_type": "markdown",
   "id": "61cd2013-2d5d-49ee-90c7-459c2a1f1f25",
   "metadata": {},
   "source": [
    "#### converting data type on existing arrays"
   ]
  },
  {
   "cell_type": "code",
   "execution_count": 20,
   "id": "a27bc324-5a07-4260-baf0-9aa15010727e",
   "metadata": {},
   "outputs": [
    {
     "name": "stdout",
     "output_type": "stream",
     "text": [
      "[1 2 3 4]\n",
      "int32\n"
     ]
    }
   ],
   "source": [
    "arr= np.array([1.0, 2.2, 3.0, 4.0])\n",
    "newarr = arr.astype('i')\n",
    "print(newarr)\n",
    "print(newarr.dtype)"
   ]
  },
  {
   "cell_type": "markdown",
   "id": "a0d01cf3-32cb-4972-8980-c035023e5461",
   "metadata": {},
   "source": [
    "#### similar"
   ]
  },
  {
   "cell_type": "code",
   "execution_count": 21,
   "id": "e6ee68ce-faa3-4297-b192-688b7a035c6b",
   "metadata": {},
   "outputs": [
    {
     "name": "stdout",
     "output_type": "stream",
     "text": [
      "[1 2 3 4]\n",
      "int64\n"
     ]
    }
   ],
   "source": [
    "newarr2 = arr.astype(int)\n",
    "print(newarr2)\n",
    "print(newarr2.dtype)"
   ]
  },
  {
   "cell_type": "code",
   "execution_count": 22,
   "id": "be6aaf09-9473-40cf-a50f-12f91e079c21",
   "metadata": {},
   "outputs": [
    {
     "name": "stdout",
     "output_type": "stream",
     "text": [
      "[ True  True  True  True]\n",
      "bool\n"
     ]
    }
   ],
   "source": [
    "newarr3 = arr.astype(bool)\n",
    "print(newarr3)\n",
    "print(newarr3.dtype)"
   ]
  },
  {
   "cell_type": "code",
   "execution_count": null,
   "id": "0c68d43a-9e3e-490f-bd30-06a6e253be47",
   "metadata": {},
   "outputs": [],
   "source": []
  },
  {
   "cell_type": "markdown",
   "id": "c6c51409-c988-4e09-bde3-91a782eb6ef5",
   "metadata": {},
   "source": [
    "## Copy and View"
   ]
  },
  {
   "cell_type": "markdown",
   "id": "5e00ecdd-a9ac-4c79-82d7-9bc625a3c383",
   "metadata": {},
   "source": [
    "#### change made to copied array doesnot effect the original array\n",
    "#### change made to viewed array effects the original array"
   ]
  },
  {
   "cell_type": "code",
   "execution_count": 23,
   "id": "21e79d2a-0748-4224-b8fe-e38f9e813d09",
   "metadata": {},
   "outputs": [
    {
     "name": "stdout",
     "output_type": "stream",
     "text": [
      "[ 1 40  3  4]\n",
      "[22  2  3  4]\n",
      "[22  2  3  4]\n"
     ]
    }
   ],
   "source": [
    "arr= np.array([1, 2, 3, 4])\n",
    "x = arr.copy()\n",
    "y = arr.view()\n",
    "\n",
    "x[1] =40\n",
    "y[0] = 22\n",
    "print(x)\n",
    "print(y)\n",
    "print(arr)"
   ]
  },
  {
   "cell_type": "markdown",
   "id": "64fbca1b-eba2-4d6c-bf96-249e667c5433",
   "metadata": {},
   "source": [
    "## Shape and reshape"
   ]
  },
  {
   "cell_type": "code",
   "execution_count": 24,
   "id": "5077915a-bfa8-4c74-872e-6ebfdda48bd7",
   "metadata": {},
   "outputs": [
    {
     "name": "stdout",
     "output_type": "stream",
     "text": [
      "[[[[[1 2 3 4]]]]]\n",
      "shape of array is:  (1, 1, 1, 1, 4)\n"
     ]
    }
   ],
   "source": [
    "arr =np.array([1, 2, 3, 4], ndmin=5)\n",
    "print(arr)\n",
    "print(\"shape of array is: \", arr.shape)"
   ]
  },
  {
   "cell_type": "code",
   "execution_count": 25,
   "id": "dfee54f0-9b26-408a-9f7a-6c02a1bd035f",
   "metadata": {},
   "outputs": [
    {
     "name": "stdout",
     "output_type": "stream",
     "text": [
      "[[ 1  2  3]\n",
      " [ 4  5  6]\n",
      " [ 7  8  9]\n",
      " [10 11 12]]\n"
     ]
    }
   ],
   "source": [
    "# Reshaping from 1D to 2d\n",
    "arr = np.array([1, 2, 3, 4, 5, 6, 7, 8, 9, 10, 11, 12])\n",
    "newarr = arr.reshape(4, 3) #The outermost dimension will have 4 arrays, each with 3 elements\n",
    "print(newarr)"
   ]
  },
  {
   "cell_type": "code",
   "execution_count": 26,
   "id": "c9c20e2e-3df3-4e2a-a109-cc251b306931",
   "metadata": {},
   "outputs": [
    {
     "name": "stdout",
     "output_type": "stream",
     "text": [
      "[[[ 1  2]\n",
      "  [ 3  4]\n",
      "  [ 5  6]]\n",
      "\n",
      " [[ 7  8]\n",
      "  [ 9 10]\n",
      "  [11 12]]]\n"
     ]
    }
   ],
   "source": [
    "# Reshape from 1D to 3D\n",
    "arr = np.array([1, 2, 3, 4, 5, 6, 7, 8, 9, 10, 11, 12])\n",
    "newarr = arr.reshape(2, 3, 2) #The outermost dimension will have 2 arrays with each array having 3 arrays of 2 size\n",
    "print(newarr)"
   ]
  },
  {
   "cell_type": "markdown",
   "id": "34da8dfc-c7c9-413e-94ee-2f0046dad12a",
   "metadata": {},
   "source": [
    "#### check if returned array is a copy or view"
   ]
  },
  {
   "cell_type": "code",
   "execution_count": 27,
   "id": "c9cf8045-42d7-41f0-8e47-dfa57e06f3af",
   "metadata": {},
   "outputs": [
    {
     "name": "stdout",
     "output_type": "stream",
     "text": [
      "[ 1  2  3  4  5  6  7  8  9 10 11 12]\n"
     ]
    }
   ],
   "source": [
    "print(newarr.base)"
   ]
  },
  {
   "cell_type": "markdown",
   "id": "36c00a48-1010-41ad-922a-458dcb2c5b53",
   "metadata": {},
   "source": [
    "#### It returns original array, so it is a view"
   ]
  },
  {
   "cell_type": "markdown",
   "id": "d9f91a60-11f2-41b8-9042-e2c5ee79f8d7",
   "metadata": {},
   "source": [
    "## Unknown dimension\n",
    "#### we are allowed to have one unknown dimension\n",
    "#### pass -1 to the unknown value, numpy will calculate the number"
   ]
  },
  {
   "cell_type": "code",
   "execution_count": 28,
   "id": "1cba5954-7ad2-4326-a63f-31ae999796c0",
   "metadata": {},
   "outputs": [
    {
     "name": "stdout",
     "output_type": "stream",
     "text": [
      "[[[1 2]\n",
      "  [3 4]]\n",
      "\n",
      " [[5 6]\n",
      "  [7 8]]]\n"
     ]
    }
   ],
   "source": [
    "arr = np.array([1, 2, 3, 4, 5, 6, 7, 8])\n",
    "newarr = arr.reshape(2, 2, -1)\n",
    "print(newarr)"
   ]
  },
  {
   "cell_type": "markdown",
   "id": "b2636cca-5f32-4fdf-b0b5-b708e6dab02a",
   "metadata": {},
   "source": [
    "## Flattening the arrays\n",
    "\n",
    "#### we can use reshape(-1) to do this"
   ]
  },
  {
   "cell_type": "code",
   "execution_count": 29,
   "id": "0aa61d61-0a3a-4b18-ab28-05a7e75eaa5c",
   "metadata": {},
   "outputs": [
    {
     "name": "stdout",
     "output_type": "stream",
     "text": [
      "[1 2 3 4 5 6]\n"
     ]
    }
   ],
   "source": [
    "arr = np.array([[1, 2, 3], [4, 5, 6]])\n",
    "\n",
    "newarr = arr.reshape(-1)\n",
    "\n",
    "print(newarr)"
   ]
  },
  {
   "cell_type": "markdown",
   "id": "076467bc-f6c6-4b57-afb7-dc22eb4e57de",
   "metadata": {},
   "source": [
    "### Iterating"
   ]
  },
  {
   "cell_type": "code",
   "execution_count": 30,
   "id": "719bb120-86d5-4b7a-be29-e546bbd89586",
   "metadata": {},
   "outputs": [
    {
     "name": "stdout",
     "output_type": "stream",
     "text": [
      "1\n",
      "2\n",
      "3\n"
     ]
    }
   ],
   "source": [
    "# 1D array\n",
    "arr = np.array([1, 2, 3])\n",
    "\n",
    "for x in arr:\n",
    "  print(x)"
   ]
  },
  {
   "cell_type": "code",
   "execution_count": 31,
   "id": "f0a3c282-8471-42cb-98b1-b555f5840987",
   "metadata": {},
   "outputs": [
    {
     "name": "stdout",
     "output_type": "stream",
     "text": [
      "[1 2 3]\n",
      "[4 5 6]\n"
     ]
    }
   ],
   "source": [
    "# 2D array\n",
    "arr = np.array([[1, 2, 3], [4, 5, 6]])\n",
    "\n",
    "for x in arr:\n",
    "  print(x)"
   ]
  },
  {
   "cell_type": "code",
   "execution_count": 32,
   "id": "c6036a07-f2ae-48d4-9845-b2aa7721c3ac",
   "metadata": {},
   "outputs": [
    {
     "name": "stdout",
     "output_type": "stream",
     "text": [
      "[[1 2 3]\n",
      " [4 5 6]]\n",
      "[[ 7  8  9]\n",
      " [10 11 12]]\n"
     ]
    }
   ],
   "source": [
    "# 3D array\n",
    "arr = np.array([[[1, 2, 3], [4, 5, 6]], [[7, 8, 9], [10, 11, 12]]])\n",
    "\n",
    "for x in arr:\n",
    "  print(x)"
   ]
  },
  {
   "cell_type": "code",
   "execution_count": 33,
   "id": "7e805207-e600-4d50-8636-715a0c3636ff",
   "metadata": {},
   "outputs": [
    {
     "name": "stdout",
     "output_type": "stream",
     "text": [
      "1\n",
      "2\n",
      "3\n",
      "4\n",
      "5\n",
      "6\n",
      "7\n",
      "8\n",
      "9\n",
      "10\n",
      "11\n",
      "12\n"
     ]
    }
   ],
   "source": [
    "arr = np.array([[[1, 2, 3], [4, 5, 6]], [[7, 8, 9], [10, 11, 12]]])\n",
    "\n",
    "for x in arr:\n",
    "  for y in x:\n",
    "    for z in y:\n",
    "      print(z)"
   ]
  },
  {
   "cell_type": "markdown",
   "id": "1234c5f7-8f3f-4cae-ad8e-31e41c440dd1",
   "metadata": {},
   "source": [
    "#### nditer for iterating"
   ]
  },
  {
   "cell_type": "code",
   "execution_count": 34,
   "id": "f41d23a0-18b2-4023-92de-55e4b48f6158",
   "metadata": {},
   "outputs": [
    {
     "name": "stdout",
     "output_type": "stream",
     "text": [
      "1\n",
      "2\n",
      "3\n",
      "4\n",
      "5\n",
      "6\n",
      "7\n",
      "8\n"
     ]
    }
   ],
   "source": [
    "arr = np.array([[[1, 2], [3, 4]], [[5, 6], [7, 8]]])\n",
    "\n",
    "for x in np.nditer(arr):\n",
    "  print(x)"
   ]
  },
  {
   "cell_type": "markdown",
   "id": "3f3851f5-8cde-48d8-ae09-e314b24eadb5",
   "metadata": {},
   "source": [
    "#### iterating with different data types"
   ]
  },
  {
   "cell_type": "code",
   "execution_count": 35,
   "id": "d771ec28-cb2e-4042-ba6f-d91cf8f58037",
   "metadata": {},
   "outputs": [
    {
     "name": "stdout",
     "output_type": "stream",
     "text": [
      "b'1'\n",
      "b'2'\n",
      "b'3'\n"
     ]
    }
   ],
   "source": [
    "arr = np.array([1, 2, 3])\n",
    "for x in np.nditer(arr, flags=['buffered'], op_dtypes=[\"S\"]):\n",
    "    print(x)"
   ]
  },
  {
   "cell_type": "markdown",
   "id": "5d0c9cf4-8168-48e7-9035-e1fbbb7eddcb",
   "metadata": {},
   "source": [
    "#### with different step sizes"
   ]
  },
  {
   "cell_type": "code",
   "execution_count": 36,
   "id": "518db901-8ce3-4d17-afc4-6a8325ba4ed3",
   "metadata": {},
   "outputs": [
    {
     "name": "stdout",
     "output_type": "stream",
     "text": [
      "1\n",
      "3\n",
      "5\n",
      "7\n"
     ]
    }
   ],
   "source": [
    "arr = np.array([[1, 2, 3, 4], [5, 6, 7, 8]])\n",
    "\n",
    "for x in np.nditer(arr[:, ::2]):\n",
    "    print(x)"
   ]
  },
  {
   "cell_type": "markdown",
   "id": "1e97f355-5b77-48fb-a152-e0b86cae9fb6",
   "metadata": {},
   "source": [
    "### Enumerated iteration\n",
    "\n",
    "#### using ndenumerate()\n",
    "\n",
    "#### means mentioning sequence with index"
   ]
  },
  {
   "cell_type": "code",
   "execution_count": 37,
   "id": "2d40b1ab-987e-43f2-b83e-cd33a166d374",
   "metadata": {},
   "outputs": [
    {
     "name": "stdout",
     "output_type": "stream",
     "text": [
      "(0, 0) 1\n",
      "(0, 1) 2\n",
      "(0, 2) 3\n",
      "(0, 3) 4\n",
      "(1, 0) 5\n",
      "(1, 1) 6\n",
      "(1, 2) 7\n",
      "(1, 3) 8\n"
     ]
    }
   ],
   "source": [
    "arr = np.array([[1, 2, 3, 4], [5, 6, 7, 8]])\n",
    "\n",
    "for idx, x in np.ndenumerate(arr):\n",
    "    print(idx, x)"
   ]
  },
  {
   "cell_type": "code",
   "execution_count": null,
   "id": "a5423587-e626-4c7f-a6ca-85ef71f75eb0",
   "metadata": {},
   "outputs": [],
   "source": []
  },
  {
   "cell_type": "markdown",
   "id": "22d2f8f1-020c-4695-b767-d88b4f2ccf0f",
   "metadata": {},
   "source": [
    "### Joining array\n",
    "\n",
    "#### concatenate() function"
   ]
  },
  {
   "cell_type": "code",
   "execution_count": 39,
   "id": "c2c2a49c",
   "metadata": {},
   "outputs": [
    {
     "name": "stdout",
     "output_type": "stream",
     "text": [
      "[1 2 3 4 5 6]\n"
     ]
    }
   ],
   "source": [
    "arr1 = np.array([1, 2, 3])\n",
    "arr2 = np.array([4, 5, 6])\n",
    "arr = np.concatenate((arr1, arr2))\n",
    "print(arr)"
   ]
  },
  {
   "cell_type": "code",
   "execution_count": 42,
   "id": "12ccd016",
   "metadata": {},
   "outputs": [
    {
     "name": "stdout",
     "output_type": "stream",
     "text": [
      "[[1 2 5 6]\n",
      " [3 4 7 8]]\n"
     ]
    }
   ],
   "source": [
    "# Joining two 2D arrays along row(axix=1)\n",
    "arr1 = np.array([[1, 2], [3, 4]])\n",
    "\n",
    "arr2 = np.array([[5, 6], [7, 8]])\n",
    "\n",
    "arr = np.concatenate((arr1, arr2), axis=1)\n",
    "print(arr)"
   ]
  },
  {
   "cell_type": "markdown",
   "id": "25112b13",
   "metadata": {},
   "source": [
    "### joining arrays using stack function"
   ]
  },
  {
   "cell_type": "code",
   "execution_count": 44,
   "id": "43427682",
   "metadata": {},
   "outputs": [
    {
     "name": "stdout",
     "output_type": "stream",
     "text": [
      "[[[1 2]\n",
      "  [5 6]]\n",
      "\n",
      " [[3 4]\n",
      "  [7 8]]]\n"
     ]
    }
   ],
   "source": [
    "arr1 = np.array([[1, 2], [3, 4]])\n",
    "\n",
    "arr2 = np.array([[5, 6], [7, 8]])\n",
    "\n",
    "arr = np.stack((arr1, arr2), axis=1)\n",
    "print(arr)"
   ]
  },
  {
   "cell_type": "markdown",
   "id": "f49bafe9",
   "metadata": {},
   "source": [
    "## Stacking along Rows"
   ]
  },
  {
   "cell_type": "code",
   "execution_count": 45,
   "id": "d1d51ab6",
   "metadata": {},
   "outputs": [
    {
     "name": "stdout",
     "output_type": "stream",
     "text": [
      "[[1 2 5 6]\n",
      " [3 4 7 8]]\n"
     ]
    }
   ],
   "source": [
    "arr= np.hstack((arr1, arr2))\n",
    "print(arr)"
   ]
  },
  {
   "cell_type": "markdown",
   "id": "a8a61d2d",
   "metadata": {},
   "source": [
    "## Stacking along Columns"
   ]
  },
  {
   "cell_type": "code",
   "execution_count": 46,
   "id": "d46301ea",
   "metadata": {},
   "outputs": [
    {
     "name": "stdout",
     "output_type": "stream",
     "text": [
      "[[1 2]\n",
      " [3 4]\n",
      " [5 6]\n",
      " [7 8]]\n"
     ]
    }
   ],
   "source": [
    "arr = np.vstack((arr1, arr2))\n",
    "print(arr)"
   ]
  },
  {
   "cell_type": "markdown",
   "id": "d88dd9ec",
   "metadata": {},
   "source": [
    "### Stacking along height(depth)"
   ]
  },
  {
   "cell_type": "code",
   "execution_count": 47,
   "id": "a15f70fa",
   "metadata": {},
   "outputs": [
    {
     "name": "stdout",
     "output_type": "stream",
     "text": [
      "[[[1 5]\n",
      "  [2 6]]\n",
      "\n",
      " [[3 7]\n",
      "  [4 8]]]\n"
     ]
    }
   ],
   "source": [
    "arr = np.dstack((arr1, arr2))\n",
    "print(arr)"
   ]
  },
  {
   "cell_type": "code",
   "execution_count": 48,
   "id": "84d0ea15",
   "metadata": {},
   "outputs": [],
   "source": [
    "### Splitting array"
   ]
  },
  {
   "cell_type": "code",
   "execution_count": 50,
   "id": "b858a905",
   "metadata": {},
   "outputs": [
    {
     "name": "stdout",
     "output_type": "stream",
     "text": [
      "[array([1, 2]), array([3, 4]), array([5, 6])]\n"
     ]
    }
   ],
   "source": [
    "arr = np.array([1, 2, 3, 4, 5, 6])\n",
    "\n",
    "newarr = np.array_split(arr, 3)\n",
    "\n",
    "print(newarr)  # newarr is an array of arrays obtained by dividing 'arr' into 3 parts"
   ]
  },
  {
   "cell_type": "code",
   "execution_count": 51,
   "id": "442e5b05",
   "metadata": {},
   "outputs": [
    {
     "name": "stdout",
     "output_type": "stream",
     "text": [
      "[array([1, 2]), array([3, 4]), array([5]), array([6])]\n"
     ]
    }
   ],
   "source": [
    "arr = np.array([1, 2, 3, 4, 5, 6])\n",
    "\n",
    "newarr = np.array_split(arr, 4)\n",
    "\n",
    "print(newarr) "
   ]
  },
  {
   "cell_type": "code",
   "execution_count": 52,
   "id": "5b734071",
   "metadata": {},
   "outputs": [],
   "source": [
    "### splitting 2D array"
   ]
  },
  {
   "cell_type": "code",
   "execution_count": 56,
   "id": "02967e29",
   "metadata": {},
   "outputs": [
    {
     "name": "stdout",
     "output_type": "stream",
     "text": [
      "[[1 2]\n",
      " [3 4]] \n",
      "\n",
      "[[5 6]\n",
      " [7 8]] \n",
      "\n",
      "[[ 9 10]\n",
      " [11 12]] \n",
      "\n"
     ]
    }
   ],
   "source": [
    "arr = np.array([[1, 2], [3, 4], [5, 6], [7, 8], [9, 10], [11, 12]])\n",
    "\n",
    "newarr = np.array_split(arr, 3)\n",
    "\n",
    "print(newarr[0], \"\\n\")\n",
    "print(newarr[1], \"\\n\")\n",
    "print(newarr[2], \"\\n\")"
   ]
  },
  {
   "cell_type": "code",
   "execution_count": 57,
   "id": "7a35932f",
   "metadata": {},
   "outputs": [],
   "source": [
    "#### alternative is to use hsplit (the opposite of hstack)"
   ]
  },
  {
   "cell_type": "code",
   "execution_count": 58,
   "id": "3c5b2aa7",
   "metadata": {},
   "outputs": [
    {
     "name": "stdout",
     "output_type": "stream",
     "text": [
      "[array([[ 1],\n",
      "       [ 4],\n",
      "       [ 7],\n",
      "       [10],\n",
      "       [13],\n",
      "       [16]]), array([[ 2],\n",
      "       [ 5],\n",
      "       [ 8],\n",
      "       [11],\n",
      "       [14],\n",
      "       [17]]), array([[ 3],\n",
      "       [ 6],\n",
      "       [ 9],\n",
      "       [12],\n",
      "       [15],\n",
      "       [18]])]\n"
     ]
    }
   ],
   "source": [
    "arr = np.array([[1, 2, 3], [4, 5, 6], [7, 8, 9], [10, 11, 12], [13, 14, 15], [16, 17, 18]])\n",
    "\n",
    "newarr = np.hsplit(arr, 3)\n",
    "\n",
    "print(newarr)"
   ]
  },
  {
   "cell_type": "code",
   "execution_count": 59,
   "id": "889c1a9b",
   "metadata": {},
   "outputs": [],
   "source": [
    "### Searching arrays"
   ]
  },
  {
   "cell_type": "code",
   "execution_count": 60,
   "id": "e450648b",
   "metadata": {},
   "outputs": [
    {
     "name": "stdout",
     "output_type": "stream",
     "text": [
      "(array([3, 5, 6]),)\n"
     ]
    }
   ],
   "source": [
    "arr = np.array([1, 2, 3, 4, 5, 4, 4])\n",
    "\n",
    "x = np.where(arr == 4)\n",
    "\n",
    "print(x)"
   ]
  },
  {
   "cell_type": "code",
   "execution_count": 61,
   "id": "db59d8a9",
   "metadata": {},
   "outputs": [
    {
     "name": "stdout",
     "output_type": "stream",
     "text": [
      "(array([1, 3, 5, 7]),)\n"
     ]
    }
   ],
   "source": [
    "arr = np.array([1, 2, 3, 4, 5, 6, 7, 8])\n",
    "\n",
    "x = np.where(arr%2 == 0)\n",
    "\n",
    "print(x)"
   ]
  },
  {
   "cell_type": "markdown",
   "id": "dbb313f3",
   "metadata": {},
   "source": [
    "#### searchsorted() finds the index where a specified number is appropriate to insert"
   ]
  },
  {
   "cell_type": "code",
   "execution_count": 64,
   "id": "bff76dcc",
   "metadata": {},
   "outputs": [
    {
     "name": "stdout",
     "output_type": "stream",
     "text": [
      "2\n"
     ]
    }
   ],
   "source": [
    "arr = np.array([6, 7, 9, 13])\n",
    "\n",
    "x = np.searchsorted(arr, 8)\n",
    "\n",
    "print(x)"
   ]
  },
  {
   "cell_type": "code",
   "execution_count": 66,
   "id": "47e331a3",
   "metadata": {},
   "outputs": [
    {
     "name": "stdout",
     "output_type": "stream",
     "text": [
      "2\n"
     ]
    }
   ],
   "source": [
    "#where should 7 be inserted from right to keep the array sorted\n",
    "x = np.searchsorted(arr, 7, side='right') \n",
    "print(x)"
   ]
  },
  {
   "cell_type": "markdown",
   "id": "2f7e7fae",
   "metadata": {},
   "source": [
    "### sorting"
   ]
  },
  {
   "cell_type": "code",
   "execution_count": 68,
   "id": "9965720e",
   "metadata": {},
   "outputs": [
    {
     "name": "stdout",
     "output_type": "stream",
     "text": [
      "[ 0  1  2  4  8 10]\n"
     ]
    }
   ],
   "source": [
    "arr = np.array([0, 8, 4, 2, 10, 1])\n",
    "print(np.sort(arr))"
   ]
  },
  {
   "cell_type": "markdown",
   "id": "69252fb8",
   "metadata": {},
   "source": [
    "#### sorting a 2D array"
   ]
  },
  {
   "cell_type": "code",
   "execution_count": 70,
   "id": "c759d37b",
   "metadata": {},
   "outputs": [
    {
     "name": "stdout",
     "output_type": "stream",
     "text": [
      "[[2 3 4]\n",
      " [0 1 5]]\n"
     ]
    }
   ],
   "source": [
    "arr = np.array([[3, 2, 4], [5, 0, 1]])\n",
    "\n",
    "print(np.sort(arr))"
   ]
  },
  {
   "cell_type": "markdown",
   "id": "74f54fce",
   "metadata": {},
   "source": [
    "#### Filtering array"
   ]
  },
  {
   "cell_type": "code",
   "execution_count": 72,
   "id": "3b2519e5",
   "metadata": {},
   "outputs": [
    {
     "name": "stdout",
     "output_type": "stream",
     "text": [
      "[41 43]\n"
     ]
    }
   ],
   "source": [
    "arr = np.array([41, 42, 43, 44])\n",
    "\n",
    "x = [True, False, True, False]\n",
    "\n",
    "newarr = arr[x]\n",
    "\n",
    "print(newarr) # only values corresponding to 'True' are displayed"
   ]
  },
  {
   "cell_type": "code",
   "execution_count": 73,
   "id": "9eec62a3",
   "metadata": {},
   "outputs": [
    {
     "name": "stdout",
     "output_type": "stream",
     "text": [
      "[True, True, True, False, False, False, True, True, True, True]\n",
      "[ 40  44  45  88 100  98  42]\n"
     ]
    }
   ],
   "source": [
    "# creating a filter array\n",
    "\n",
    "arr=np.array([40, 44, 45, 10, 8, 20, 88, 100, 98, 42])\n",
    "\n",
    "filter_array = []\n",
    "\n",
    "#suppose we want to eliminate values below 40\n",
    "\n",
    "for element in arr:\n",
    "    if element >= 40:\n",
    "        filter_array.append(True)\n",
    "    else:\n",
    "        filter_array.append(False)\n",
    "\n",
    "newarr = arr[filter_array]\n",
    "print(filter_array)\n",
    "print(newarr)\n"
   ]
  },
  {
   "cell_type": "markdown",
   "id": "8081e81f",
   "metadata": {},
   "source": [
    "#### creating filter directly from array"
   ]
  },
  {
   "cell_type": "code",
   "execution_count": 76,
   "id": "fd27dfc6",
   "metadata": {},
   "outputs": [
    {
     "name": "stdout",
     "output_type": "stream",
     "text": [
      "[False  True False  True False  True False]\n",
      "[2 4 6]\n"
     ]
    }
   ],
   "source": [
    "arr = np.array([1, 2, 3, 4, 5, 6, 7])\n",
    "\n",
    "filter_array = arr%2 == 0  #filtering even numbers\n",
    "\n",
    "newarr = arr[filter_array]\n",
    "\n",
    "print(filter_array)\n",
    "print(newarr)"
   ]
  },
  {
   "cell_type": "code",
   "execution_count": null,
   "id": "2c3ffe5f",
   "metadata": {},
   "outputs": [],
   "source": []
  }
 ],
 "metadata": {
  "kernelspec": {
   "display_name": "Python 3 (ipykernel)",
   "language": "python",
   "name": "python3"
  },
  "language_info": {
   "codemirror_mode": {
    "name": "ipython",
    "version": 3
   },
   "file_extension": ".py",
   "mimetype": "text/x-python",
   "name": "python",
   "nbconvert_exporter": "python",
   "pygments_lexer": "ipython3",
   "version": "3.10.12"
  }
 },
 "nbformat": 4,
 "nbformat_minor": 5
}
